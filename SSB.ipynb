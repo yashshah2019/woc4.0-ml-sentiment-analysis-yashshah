{
  "nbformat": 4,
  "nbformat_minor": 0,
  "metadata": {
    "colab": {
      "name": "Mid-evaluation Tasks [WoC 4.0: Sentiment Analysis].ipynb",
      "provenance": [],
      "collapsed_sections": []
    },
    "kernelspec": {
      "name": "python3",
      "display_name": "Python 3"
    },
    "language_info": {
      "name": "python"
    }
  },
  "cells": [
    {
      "cell_type": "markdown",
      "source": [
        "# Pre-reqs"
      ],
      "metadata": {
        "id": "1JcCWwVD3xXm"
      }
    },
    {
      "cell_type": "code",
      "source": [
        "!pip install mmh3"
      ],
      "metadata": {
        "colab": {
          "base_uri": "https://localhost:8080/"
        },
        "id": "_Vv791_wv58d",
        "outputId": "26a18c73-b887-4ee9-85a0-40d512812182"
      },
      "execution_count": 1,
      "outputs": [
        {
          "output_type": "stream",
          "name": "stdout",
          "text": [
            "Requirement already satisfied: mmh3 in /usr/local/lib/python3.7/dist-packages (3.0.0)\n"
          ]
        }
      ]
    },
    {
      "cell_type": "code",
      "execution_count": 2,
      "metadata": {
        "id": "0KC5gVN0vUr1"
      },
      "outputs": [],
      "source": [
        "import numpy as np\n",
        "import pandas as pd\n",
        "import mmh3"
      ]
    },
    {
      "cell_type": "markdown",
      "source": [
        "# Task 1"
      ],
      "metadata": {
        "id": "EQFRAh6Pv_sa"
      }
    },
    {
      "cell_type": "markdown",
      "source": [
        "## Stopwords Removal"
      ],
      "metadata": {
        "id": "nfhvKV57GLjq"
      }
    },
    {
      "cell_type": "markdown",
      "source": [
        " In this exercise you have to remove stopwords from a given **Initial** text and convert the text into the **Final** text given to you \n",
        "\n",
        "*Note - Please only write your code where it is mentioned to and do not change anything else*"
      ],
      "metadata": {
        "id": "wcklv4wFGUZ9"
      }
    },
    {
      "cell_type": "markdown",
      "source": [
        "**Intial text**\n",
        "\n",
        "> Sentiment analysis is the process of using natural language processing , text analysis , and statistics to analyze customer sentiment .\n",
        "\n",
        "\n",
        "**Final text**\n",
        "\n",
        "> Sentiment is process using natural language processing , text , statistics analyze customer ."
      ],
      "metadata": {
        "id": "6TMIz90TGk__"
      }
    },
    {
      "cell_type": "code",
      "execution_count": 3,
      "metadata": {
        "id": "VvSIL7XR_0AC",
        "colab": {
          "base_uri": "https://localhost:8080/"
        },
        "outputId": "3f990540-27d9-408c-afcf-c876ffeb04c1"
      },
      "outputs": [
        {
          "output_type": "stream",
          "name": "stdout",
          "text": [
            "[nltk_data] Downloading package punkt to /root/nltk_data...\n",
            "[nltk_data]   Package punkt is already up-to-date!\n",
            "[nltk_data] Downloading package stopwords to /root/nltk_data...\n",
            "[nltk_data]   Package stopwords is already up-to-date!\n"
          ]
        }
      ],
      "source": [
        "import nltk\n",
        "nltk.download('punkt')\n",
        "from nltk.corpus import stopwords\n",
        "nltk.download('stopwords')\n",
        "from nltk.tokenize import word_tokenize\n",
        "from nltk.stem.porter import PorterStemmer"
      ]
    },
    {
      "cell_type": "markdown",
      "source": [
        "## Tokenize your text"
      ],
      "metadata": {
        "id": "DRF0hW7uGHGN"
      }
    },
    {
      "cell_type": "code",
      "source": [
        "text = \"Sentiment analysis is the process of using natural language processing , text analysis , and statistics to analyze customer sentiment .\""
      ],
      "metadata": {
        "id": "lsOP7BsC_8oo"
      },
      "execution_count": 4,
      "outputs": []
    },
    {
      "cell_type": "code",
      "source": [
        "text_tokens = nltk.word_tokenize(text)"
      ],
      "metadata": {
        "id": "LoqIzFvdAQD3"
      },
      "execution_count": 5,
      "outputs": []
    },
    {
      "cell_type": "code",
      "source": [
        "print(text_tokens)"
      ],
      "metadata": {
        "id": "yxQRfHDQAcrX",
        "outputId": "7fad076e-9e8d-4547-92de-a93dfe9ab875",
        "colab": {
          "base_uri": "https://localhost:8080/"
        }
      },
      "execution_count": 6,
      "outputs": [
        {
          "output_type": "stream",
          "name": "stdout",
          "text": [
            "['Sentiment', 'analysis', 'is', 'the', 'process', 'of', 'using', 'natural', 'language', 'processing', ',', 'text', 'analysis', ',', 'and', 'statistics', 'to', 'analyze', 'customer', 'sentiment', '.']\n"
          ]
        }
      ]
    },
    {
      "cell_type": "markdown",
      "source": [
        "*Expected output*\n",
        "\n",
        "['Sentiment', 'analysis', 'is', 'the', 'process', 'of', 'using', 'natural', 'language', 'processing', ',', 'text', 'analysis', ',', 'and', 'statistics', 'to', 'analyze', 'customer', 'sentiment', '.']"
      ],
      "metadata": {
        "id": "XVApTuyhHM_0"
      }
    },
    {
      "cell_type": "markdown",
      "source": [
        "## Creating the stopwords list"
      ],
      "metadata": {
        "id": "0ZIwl7E1HfXZ"
      }
    },
    {
      "cell_type": "code",
      "source": [
        "stopword_list = stopwords.words('english') # now stopword_list will be appended by already known common stopwords which can be seen by prinitng the list below #"
      ],
      "metadata": {
        "id": "gl9hYgbGEgVg"
      },
      "execution_count": 7,
      "outputs": []
    },
    {
      "cell_type": "code",
      "source": [
        "print(stopword_list)"
      ],
      "metadata": {
        "id": "bPiEJ434K0PU",
        "outputId": "78d5b98b-2378-4f1b-fc84-261581987cd2",
        "colab": {
          "base_uri": "https://localhost:8080/"
        }
      },
      "execution_count": 8,
      "outputs": [
        {
          "output_type": "stream",
          "name": "stdout",
          "text": [
            "['i', 'me', 'my', 'myself', 'we', 'our', 'ours', 'ourselves', 'you', \"you're\", \"you've\", \"you'll\", \"you'd\", 'your', 'yours', 'yourself', 'yourselves', 'he', 'him', 'his', 'himself', 'she', \"she's\", 'her', 'hers', 'herself', 'it', \"it's\", 'its', 'itself', 'they', 'them', 'their', 'theirs', 'themselves', 'what', 'which', 'who', 'whom', 'this', 'that', \"that'll\", 'these', 'those', 'am', 'is', 'are', 'was', 'were', 'be', 'been', 'being', 'have', 'has', 'had', 'having', 'do', 'does', 'did', 'doing', 'a', 'an', 'the', 'and', 'but', 'if', 'or', 'because', 'as', 'until', 'while', 'of', 'at', 'by', 'for', 'with', 'about', 'against', 'between', 'into', 'through', 'during', 'before', 'after', 'above', 'below', 'to', 'from', 'up', 'down', 'in', 'out', 'on', 'off', 'over', 'under', 'again', 'further', 'then', 'once', 'here', 'there', 'when', 'where', 'why', 'how', 'all', 'any', 'both', 'each', 'few', 'more', 'most', 'other', 'some', 'such', 'no', 'nor', 'not', 'only', 'own', 'same', 'so', 'than', 'too', 'very', 's', 't', 'can', 'will', 'just', 'don', \"don't\", 'should', \"should've\", 'now', 'd', 'll', 'm', 'o', 're', 've', 'y', 'ain', 'aren', \"aren't\", 'couldn', \"couldn't\", 'didn', \"didn't\", 'doesn', \"doesn't\", 'hadn', \"hadn't\", 'hasn', \"hasn't\", 'haven', \"haven't\", 'isn', \"isn't\", 'ma', 'mightn', \"mightn't\", 'mustn', \"mustn't\", 'needn', \"needn't\", 'shan', \"shan't\", 'shouldn', \"shouldn't\", 'wasn', \"wasn't\", 'weren', \"weren't\", 'won', \"won't\", 'wouldn', \"wouldn't\"]\n"
          ]
        }
      ]
    },
    {
      "cell_type": "code",
      "source": [
        "# Append and Remove some stopwords from the list such that after removing stopwords from intial text using stopwords_list you can get final text\n",
        "\n",
        "# ...\n",
        "# write your code here \n",
        "# ... \n",
        "# stopwords.remove(')\n",
        "stopword_list.append('sentiment')\n",
        "stopword_list.append('analysis')\n",
        "stopword_list.remove('is')"
      ],
      "metadata": {
        "id": "Q3zBIboZH-ct"
      },
      "execution_count": 9,
      "outputs": []
    },
    {
      "cell_type": "code",
      "source": [
        " #Remove all tokens from text_tokens which are also present in stopword_list and store remaining tokens in sw_filtered_text#\n",
        "\n",
        " #...\n",
        " # write your code here (Hint - create a list named sw_filtered_text fulfilling above criteria)\n",
        " #..\n",
        " sw_filtered_text = []\n",
        " for word in text_tokens:\n",
        "   if word not in stopword_list:\n",
        "     sw_filtered_text.append(word)\n"
      ],
      "metadata": {
        "id": "MFh_nGN1DRpy"
      },
      "execution_count": 10,
      "outputs": []
    },
    {
      "cell_type": "code",
      "source": [
        "print(sw_filtered_text)"
      ],
      "metadata": {
        "id": "56k3icocDR74",
        "outputId": "7dd94f6d-7057-4d36-c17c-fd2b515b8cd8",
        "colab": {
          "base_uri": "https://localhost:8080/"
        }
      },
      "execution_count": 11,
      "outputs": [
        {
          "output_type": "stream",
          "name": "stdout",
          "text": [
            "['Sentiment', 'is', 'process', 'using', 'natural', 'language', 'processing', ',', 'text', ',', 'statistics', 'analyze', 'customer', '.']\n"
          ]
        }
      ]
    },
    {
      "cell_type": "markdown",
      "source": [
        "*Expected output*\n",
        "\n",
        "['Sentiment', 'is', 'process', 'using', 'natural', 'language', 'processing', ',', 'text', ',', 'statistics', 'analyze', 'customer', '.']"
      ],
      "metadata": {
        "id": "aoI798IQJjRz"
      }
    },
    {
      "cell_type": "markdown",
      "source": [
        "## Output"
      ],
      "metadata": {
        "id": "nd80wGJQAewo"
      }
    },
    {
      "cell_type": "code",
      "source": [
        "sw_filtered_text = (\" \").join(sw_filtered_text)\n",
        "print(sw_filtered_text)\n",
        "\n",
        "\n",
        "# The above code will join all the tokens in the final list now check whether your output with the final text given to you or not."
      ],
      "metadata": {
        "id": "P6MRAcAFErFM",
        "outputId": "31600fd5-7a16-42a1-b4d7-f259682924b2",
        "colab": {
          "base_uri": "https://localhost:8080/"
        }
      },
      "execution_count": 12,
      "outputs": [
        {
          "output_type": "stream",
          "name": "stdout",
          "text": [
            "Sentiment is process using natural language processing , text , statistics analyze customer .\n"
          ]
        }
      ]
    },
    {
      "cell_type": "markdown",
      "source": [
        "# Task 2"
      ],
      "metadata": {
        "id": "IKT900gTwFbo"
      }
    },
    {
      "cell_type": "markdown",
      "source": [
        "## Stemming"
      ],
      "metadata": {
        "id": "jGMPQJMf4oZ1"
      }
    },
    {
      "cell_type": "markdown",
      "source": [
        "In this exercise, with the given input, produce the given output by stemming the previously tokenized words.\n",
        "\n",
        "*Note - Write your code only where it is mentioned to and keep everything else unchanged.*"
      ],
      "metadata": {
        "id": "cryVbEXp4oZ2"
      }
    },
    {
      "cell_type": "markdown",
      "source": [
        "**Input**\n",
        "> ['Constantly', 'concentrating', 'nearby', 'object', 'may', 'lead', 'one', 'feel', 'strain' 'eyes']\n",
        "\n",
        "\n",
        "\n",
        "**Output**\n",
        "> ['Constant', 'concentrat', 'near', 'object', 'may', 'lead', 'on', 'feel', 'strain' 'ey']"
      ],
      "metadata": {
        "id": "BD1VxLUF4oZ2"
      }
    },
    {
      "cell_type": "code",
      "source": [
        "stemmed_tockens = ['Constantly', 'concentrating', 'nearby', 'object', 'may', 'lead', 'one', 'feel', 'strain' ,'eyes']"
      ],
      "metadata": {
        "id": "ljE4xRlO-eOc"
      },
      "execution_count": 13,
      "outputs": []
    },
    {
      "cell_type": "code",
      "source": [
        "# Final output\n",
        "ps = PorterStemmer()\n",
        "stemmed_tockens = [ps.stem(word) for word in stemmed_tockens if word not in stopword_list]\n",
        "print(stemmed_tockens)"
      ],
      "metadata": {
        "id": "BInjGAZw-qSC",
        "outputId": "1661770c-0fcc-42d7-e5ef-a23fe34e2974",
        "colab": {
          "base_uri": "https://localhost:8080/"
        }
      },
      "execution_count": 14,
      "outputs": [
        {
          "output_type": "stream",
          "name": "stdout",
          "text": [
            "['constantli', 'concentr', 'nearbi', 'object', 'may', 'lead', 'one', 'feel', 'strain', 'eye']\n"
          ]
        }
      ]
    },
    {
      "cell_type": "markdown",
      "source": [
        "Questionnaire:\n",
        "1. Have you written an entire function for stemming? - YES/NO\n",
        "2. Have you used any pre-built library for this task? - YES/NO\n",
        "3. Name the library used (write NA if not used): _______"
      ],
      "metadata": {
        "id": "KNKHhvCW-xVS"
      }
    },
    {
      "cell_type": "markdown",
      "source": [
        "# Task 3"
      ],
      "metadata": {
        "id": "IOMr50QBwHQw"
      }
    },
    {
      "cell_type": "markdown",
      "source": [
        "## The Hashing Trick"
      ],
      "metadata": {
        "id": "FDCBJRLvwJbq"
      }
    },
    {
      "cell_type": "markdown",
      "source": [
        "The conventional Bag of Words method involves formation of vocabulary out of all the available tokens in the given text and later, building features out of the vocabulary using frequencies of tokens or just their presence (1s or 0s). Feature hashing or the hashing trick helps overcome some of the major limitations of conventional Bag of Words like growing vocabulary with growing dataset size i.e. dimensionality reduction or dodging crafty corner cases. \n",
        "\n",
        "For some further details on Feature hashing, refer to these links:\n",
        "1. https://en.wikipedia.org/wiki/Feature_hashing\n",
        "2. https://medium.com/value-stream-design/introducing-one-of-the-best-hacks-in-machine-learning-the-hashing-trick-bf6a9c8af18f\n",
        "\n",
        "For this Task, given some arbitrary data in a DataFrame, implement Feature hashing manually using MurmurHash3 (using mmh3 module imported at the beginning) to hash each word and then modulo to build a feature vector as shown in the below example:\n",
        "\n",
        "\n",
        "---\n",
        "\n",
        "\n",
        "Example:\n",
        "\n",
        "**Dataset**\n",
        "\n",
        "| Text      | Label |\n",
        "| --------- | ----- |\n",
        "| Loved the service      | 1       |\n",
        "| Terrible food   | 0        |\n",
        "\n",
        "Using conventional bag of words, we would require 5 features for 5 unique words in both the sentences (loved, the, service, terrible, food).\n",
        "\n",
        "Let us use feature hashing such that output feature vector has 4 features (use modulo 4 after hashing)\n",
        "\n",
        "Sentence 1: Loved the service\n",
        "\n",
        "| Words      | Hash | Hash modulo 4 |\n",
        "| --------- | ----- | ------------- |\n",
        "| loved | 2334787929 | 1 |\n",
        "| the   | 3162218338 | 2 |\n",
        "| service | 3640852848 | 0 |\n",
        "\n",
        "Sentence 2: Terrible food\n",
        "\n",
        "| Words      | Hash | Hash modulo 4 |\n",
        "| --------- | ----- | ------------- |\n",
        "| terrible | 2800746226 | 2 |\n",
        "| food   | 2122679414 | 2 |\n",
        "\n",
        "Final feature vector:\n",
        "\n",
        "| Sentence      | Hash Feature 0 | Hash Feature 1 | Hash Feature 2 | Hash Feature 3 |\n",
        "| --------- | ----- | ------------- | ----- | ----- |\n",
        "| Loved the service | 1 | 1 | 1 | 0 |\n",
        "| Terrible food | 0 | 0 | 2 | 0 |\n",
        "\n",
        "Thus the output should be:\n",
        "\n",
        "\n",
        "```\n",
        "sample_output = [1, 1, 1, 0\n",
        "                 0, 0, 2, 0]\n",
        "```\n",
        "\n",
        "For the dataset given in the problem: \n",
        "\n",
        "- Required features: 1000\n",
        "\n",
        "- Hash function: mmh3 (must use unsigned hash)"
      ],
      "metadata": {
        "id": "Loy-mazWySll"
      }
    },
    {
      "cell_type": "markdown",
      "source": [
        "**NOTE: You should only use Pandas, NumPy and mmh3 for this task, if any other library is used, your submission will not be considered.**"
      ],
      "metadata": {
        "id": "DaAU0AMn7Jxz"
      }
    },
    {
      "cell_type": "code",
      "source": [
        "df = pd.read_csv('/content/data_BoW.csv')\n",
        "df"
      ],
      "metadata": {
        "colab": {
          "base_uri": "https://localhost:8080/",
          "height": 424
        },
        "id": "FiZm2ubU7XTL",
        "outputId": "f3082d27-4764-43e8-ce59-3ee82ceab9aa"
      },
      "execution_count": null,
      "outputs": [
        {
          "output_type": "execute_result",
          "data": {
            "text/html": [
              "\n",
              "  <div id=\"df-e0b5f435-4dc8-4278-8389-523d99dd0d09\">\n",
              "    <div class=\"colab-df-container\">\n",
              "      <div>\n",
              "<style scoped>\n",
              "    .dataframe tbody tr th:only-of-type {\n",
              "        vertical-align: middle;\n",
              "    }\n",
              "\n",
              "    .dataframe tbody tr th {\n",
              "        vertical-align: top;\n",
              "    }\n",
              "\n",
              "    .dataframe thead th {\n",
              "        text-align: right;\n",
              "    }\n",
              "</style>\n",
              "<table border=\"1\" class=\"dataframe\">\n",
              "  <thead>\n",
              "    <tr style=\"text-align: right;\">\n",
              "      <th></th>\n",
              "      <th>Unnamed: 0</th>\n",
              "      <th>text_clean</th>\n",
              "      <th>label_num</th>\n",
              "    </tr>\n",
              "  </thead>\n",
              "  <tbody>\n",
              "    <tr>\n",
              "      <th>0</th>\n",
              "      <td>0</td>\n",
              "      <td>subject enron methanol meter this is a follow ...</td>\n",
              "      <td>0</td>\n",
              "    </tr>\n",
              "    <tr>\n",
              "      <th>1</th>\n",
              "      <td>1</td>\n",
              "      <td>subject hpl nom for january see attached file ...</td>\n",
              "      <td>0</td>\n",
              "    </tr>\n",
              "    <tr>\n",
              "      <th>2</th>\n",
              "      <td>2</td>\n",
              "      <td>subject neon retreat ho ho ho we re around to ...</td>\n",
              "      <td>0</td>\n",
              "    </tr>\n",
              "    <tr>\n",
              "      <th>3</th>\n",
              "      <td>3</td>\n",
              "      <td>subject photoshop windows office cheap main tr...</td>\n",
              "      <td>1</td>\n",
              "    </tr>\n",
              "    <tr>\n",
              "      <th>4</th>\n",
              "      <td>4</td>\n",
              "      <td>subject re indian springs this deal is to book...</td>\n",
              "      <td>0</td>\n",
              "    </tr>\n",
              "    <tr>\n",
              "      <th>...</th>\n",
              "      <td>...</td>\n",
              "      <td>...</td>\n",
              "      <td>...</td>\n",
              "    </tr>\n",
              "    <tr>\n",
              "      <th>5166</th>\n",
              "      <td>5166</td>\n",
              "      <td>subject put the on the ft the transport volume...</td>\n",
              "      <td>0</td>\n",
              "    </tr>\n",
              "    <tr>\n",
              "      <th>5167</th>\n",
              "      <td>5167</td>\n",
              "      <td>subject and following noms hpl can t take the ...</td>\n",
              "      <td>0</td>\n",
              "    </tr>\n",
              "    <tr>\n",
              "      <th>5168</th>\n",
              "      <td>5168</td>\n",
              "      <td>subject calpine daily gas nomination julie as ...</td>\n",
              "      <td>0</td>\n",
              "    </tr>\n",
              "    <tr>\n",
              "      <th>5169</th>\n",
              "      <td>5169</td>\n",
              "      <td>subject industrial worksheets for august activ...</td>\n",
              "      <td>0</td>\n",
              "    </tr>\n",
              "    <tr>\n",
              "      <th>5170</th>\n",
              "      <td>5170</td>\n",
              "      <td>subject important online banking alert dear va...</td>\n",
              "      <td>1</td>\n",
              "    </tr>\n",
              "  </tbody>\n",
              "</table>\n",
              "<p>5171 rows × 3 columns</p>\n",
              "</div>\n",
              "      <button class=\"colab-df-convert\" onclick=\"convertToInteractive('df-e0b5f435-4dc8-4278-8389-523d99dd0d09')\"\n",
              "              title=\"Convert this dataframe to an interactive table.\"\n",
              "              style=\"display:none;\">\n",
              "        \n",
              "  <svg xmlns=\"http://www.w3.org/2000/svg\" height=\"24px\"viewBox=\"0 0 24 24\"\n",
              "       width=\"24px\">\n",
              "    <path d=\"M0 0h24v24H0V0z\" fill=\"none\"/>\n",
              "    <path d=\"M18.56 5.44l.94 2.06.94-2.06 2.06-.94-2.06-.94-.94-2.06-.94 2.06-2.06.94zm-11 1L8.5 8.5l.94-2.06 2.06-.94-2.06-.94L8.5 2.5l-.94 2.06-2.06.94zm10 10l.94 2.06.94-2.06 2.06-.94-2.06-.94-.94-2.06-.94 2.06-2.06.94z\"/><path d=\"M17.41 7.96l-1.37-1.37c-.4-.4-.92-.59-1.43-.59-.52 0-1.04.2-1.43.59L10.3 9.45l-7.72 7.72c-.78.78-.78 2.05 0 2.83L4 21.41c.39.39.9.59 1.41.59.51 0 1.02-.2 1.41-.59l7.78-7.78 2.81-2.81c.8-.78.8-2.07 0-2.86zM5.41 20L4 18.59l7.72-7.72 1.47 1.35L5.41 20z\"/>\n",
              "  </svg>\n",
              "      </button>\n",
              "      \n",
              "  <style>\n",
              "    .colab-df-container {\n",
              "      display:flex;\n",
              "      flex-wrap:wrap;\n",
              "      gap: 12px;\n",
              "    }\n",
              "\n",
              "    .colab-df-convert {\n",
              "      background-color: #E8F0FE;\n",
              "      border: none;\n",
              "      border-radius: 50%;\n",
              "      cursor: pointer;\n",
              "      display: none;\n",
              "      fill: #1967D2;\n",
              "      height: 32px;\n",
              "      padding: 0 0 0 0;\n",
              "      width: 32px;\n",
              "    }\n",
              "\n",
              "    .colab-df-convert:hover {\n",
              "      background-color: #E2EBFA;\n",
              "      box-shadow: 0px 1px 2px rgba(60, 64, 67, 0.3), 0px 1px 3px 1px rgba(60, 64, 67, 0.15);\n",
              "      fill: #174EA6;\n",
              "    }\n",
              "\n",
              "    [theme=dark] .colab-df-convert {\n",
              "      background-color: #3B4455;\n",
              "      fill: #D2E3FC;\n",
              "    }\n",
              "\n",
              "    [theme=dark] .colab-df-convert:hover {\n",
              "      background-color: #434B5C;\n",
              "      box-shadow: 0px 1px 3px 1px rgba(0, 0, 0, 0.15);\n",
              "      filter: drop-shadow(0px 1px 2px rgba(0, 0, 0, 0.3));\n",
              "      fill: #FFFFFF;\n",
              "    }\n",
              "  </style>\n",
              "\n",
              "      <script>\n",
              "        const buttonEl =\n",
              "          document.querySelector('#df-e0b5f435-4dc8-4278-8389-523d99dd0d09 button.colab-df-convert');\n",
              "        buttonEl.style.display =\n",
              "          google.colab.kernel.accessAllowed ? 'block' : 'none';\n",
              "\n",
              "        async function convertToInteractive(key) {\n",
              "          const element = document.querySelector('#df-e0b5f435-4dc8-4278-8389-523d99dd0d09');\n",
              "          const dataTable =\n",
              "            await google.colab.kernel.invokeFunction('convertToInteractive',\n",
              "                                                     [key], {});\n",
              "          if (!dataTable) return;\n",
              "\n",
              "          const docLinkHtml = 'Like what you see? Visit the ' +\n",
              "            '<a target=\"_blank\" href=https://colab.research.google.com/notebooks/data_table.ipynb>data table notebook</a>'\n",
              "            + ' to learn more about interactive tables.';\n",
              "          element.innerHTML = '';\n",
              "          dataTable['output_type'] = 'display_data';\n",
              "          await google.colab.output.renderOutput(dataTable, element);\n",
              "          const docLink = document.createElement('div');\n",
              "          docLink.innerHTML = docLinkHtml;\n",
              "          element.appendChild(docLink);\n",
              "        }\n",
              "      </script>\n",
              "    </div>\n",
              "  </div>\n",
              "  "
            ],
            "text/plain": [
              "      Unnamed: 0                                         text_clean  label_num\n",
              "0              0  subject enron methanol meter this is a follow ...          0\n",
              "1              1  subject hpl nom for january see attached file ...          0\n",
              "2              2  subject neon retreat ho ho ho we re around to ...          0\n",
              "3              3  subject photoshop windows office cheap main tr...          1\n",
              "4              4  subject re indian springs this deal is to book...          0\n",
              "...          ...                                                ...        ...\n",
              "5166        5166  subject put the on the ft the transport volume...          0\n",
              "5167        5167  subject and following noms hpl can t take the ...          0\n",
              "5168        5168  subject calpine daily gas nomination julie as ...          0\n",
              "5169        5169  subject industrial worksheets for august activ...          0\n",
              "5170        5170  subject important online banking alert dear va...          1\n",
              "\n",
              "[5171 rows x 3 columns]"
            ]
          },
          "metadata": {},
          "execution_count": 4
        }
      ]
    },
    {
      "cell_type": "code",
      "source": [
        "#your code here"
      ],
      "metadata": {
        "id": "SwNiRpMdD-5L"
      },
      "execution_count": null,
      "outputs": []
    }
  ]
}